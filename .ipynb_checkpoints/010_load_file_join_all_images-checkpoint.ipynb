{
 "cells": [
  {
   "cell_type": "code",
   "execution_count": 1,
   "metadata": {},
   "outputs": [],
   "source": [
    "from os.path import join\n",
    "import glob\n",
    "import sys\n",
    "import tqdm\n",
    "import random\n",
    "import numpy as np\n",
    "import re\n",
    "import numpy as np # linear algebra\n",
    "import os\n",
    "import shutil\n",
    "from pathlib import Path\n",
    "from tqdm import tqdm\n",
    "from subprocess import check_output\n",
    "from shutil import copyfile\n",
    "import cv2\n",
    "import matplotlib.pyplot as plt\n",
    "import pandas as pd\n",
    "from skimage.morphology import watershed, remove_small_holes, remove_small_objects, label, erosion\n",
    "from PIL import Image"
   ]
  },
  {
   "cell_type": "code",
   "execution_count": 2,
   "metadata": {},
   "outputs": [],
   "source": [
    "IMG_WIDTH = 1600\n",
    "IMG_HEIGHT = 1200\n",
    "IMG_CHANNELS = 3\n",
    "\n",
    "NumberTest = 60\n",
    "tot_num = len(os.listdir('DATASET/all_images/Original/'))"
   ]
  },
  {
   "cell_type": "code",
   "execution_count": 3,
   "metadata": {},
   "outputs": [],
   "source": [
    "idx = 0\n",
    "\n",
    "# DATA_PATH = 'DATASET/TRAIN_YELLOW/ATLAS/'\n",
    "# DATA_PATH_TEST = 'DATASET/TEST_YELLOW/ATLAS/'\n",
    "\n",
    "PATH ='DATASET/all_images/Original/'\n",
    "PATH_Y = 'DATASET/all_masks/Original/'\n",
    "\n",
    "PATH_TRAIN = 'DATASET/all_images/images/'\n",
    "PATH_TRAIN_Y = 'DATASET/all_masks/masks/'\n",
    "\n",
    "\n",
    "####TAKE names from image because there more masks than mask\n",
    "####TAKE names from image because there more masks than mask\n",
    "####TAKE names from image because there more masks than mask\n",
    "####TAKE names from image because there more masks than mask\n",
    "\n",
    "names = check_output([\"ls\", PATH]).decode(\"utf8\").split()"
   ]
  },
  {
   "cell_type": "code",
   "execution_count": null,
   "metadata": {},
   "outputs": [
    {
     "name": "stderr",
     "output_type": "stream",
     "text": [
      "  0%|          | 0/252 [00:00<?, ?it/s]"
     ]
    },
    {
     "name": "stdout",
     "output_type": "stream",
     "text": [
      "prima più di due valori0 campione0.TIF [  0  23  24  25  26  27  28  30  31  32  33  35  36  37  38  39  40  42\n",
      "  43  47  48  50  51  52  55  56  58  59  60  63  64  65  66  67  68  70\n",
      "  71  73  75  76  78  80  82  83  84  85  87  88  89  90  91  92  93  94\n",
      "  95  96  99 101 102 104 108 109 110 111 112 113 118 119 120 121 122 123\n",
      " 124 125 126 127 129 130 133 136 137 138 142 143 144 145 147 148 149 150\n",
      " 152 153 155 156 158 159 161 162 164 165 166 169 170 171 174 175 176 181\n",
      " 182 184 186 187 189 190 193 194 195 196 197 199 200 201 202 203 205 206\n",
      " 207 208 210 211 212 213 215 216 217 218 219 220 221 222 223 224 225 226\n",
      " 227 228 230 232 233 234 235 236 237 238 239 240 241 242 243 245 246 247\n",
      " 248 249 250 251 252 253 254 255]\n",
      "dopo invece 0 campione0.TIF [  0 255]\n"
     ]
    },
    {
     "name": "stderr",
     "output_type": "stream",
     "text": [
      " 25%|██▍       | 62/252 [00:38<02:48,  1.13it/s]"
     ]
    },
    {
     "name": "stdout",
     "output_type": "stream",
     "text": [
      "prima più di due valori61 campione156.TIF [  0   1   2   3   4   5   6   7   8   9  10  11  12  13  14  15  16  17\n",
      "  18  19  20  22  23  24  25  26  27  28  29  30  31  32  33  34  35  37\n",
      "  38  40  41  43  45  47  48  49  50  51  53  55  56  57  60  67  68  74\n",
      "  76  77  79  80  81  82  83  94 108 110 111 112 144 145 176 177 202 204]\n",
      "dopo invece 61 campione156.TIF [  0 255]\n"
     ]
    },
    {
     "name": "stderr",
     "output_type": "stream",
     "text": [
      " 25%|██▌       | 63/252 [00:39<03:16,  1.04s/it]"
     ]
    },
    {
     "name": "stdout",
     "output_type": "stream",
     "text": [
      "prima più di due valori62 campione158.TIF [  0   1   2   3   4   5   6   7   8   9  10  11  12  13  14  15  16  17\n",
      "  18  19  20  21  23  25  27  29  34  37 255]\n",
      "dopo invece 62 campione158.TIF [  0 255]\n"
     ]
    },
    {
     "name": "stderr",
     "output_type": "stream",
     "text": [
      " 25%|██▌       | 64/252 [00:42<04:23,  1.40s/it]"
     ]
    },
    {
     "name": "stdout",
     "output_type": "stream",
     "text": [
      "prima più di due valori64 campione15.TIF [  0  23  24  25  26  27  28  29  30  31  32  33  34  35  36  38  39  40\n",
      "  41  42  43  44  45  46  47  48  49  50  51  52  53  54  55  56  57  58\n",
      "  59  60  61  62  64  65  67  68  69  70  71  72  73  74  75  76  77  78\n",
      "  79  80  82  83  84  85  86  87  88  89  90  91  92  93  94  95  96  97\n",
      "  98  99 100 101 102 104 105 106 109 110 112 113 114 119 120 121 122 123\n",
      " 124 125 126 128 129 130 131 132 133 134 135 136 137 138 139 140 141 142\n",
      " 144 145 148 149 150 151 152 153 155 156 157 158 159 160 161 162 163 164\n",
      " 167 168 169 170 171 172 174 175 176 177 178 179 180 181 182 183 184 185\n",
      " 186 187 188 189 190 191 193 194 195 196 197 198 199 200 201 202 203 204\n",
      " 205 206 207 208 210 211 212 213 214 215 216 217 218 219 220 221 222 223\n",
      " 224 225 226 227 228 229 230 231 232 233 234 235 236 237 238 239 240 241\n",
      " 242 243 244 245 246 247 248 249 250 251 252 253 254 255]\n",
      "dopo invece 64 campione15.TIF [  0 255]\n"
     ]
    },
    {
     "name": "stderr",
     "output_type": "stream",
     "text": [
      " 30%|██▉       | 75/252 [00:52<02:27,  1.20it/s]"
     ]
    },
    {
     "name": "stdout",
     "output_type": "stream",
     "text": [
      "prima più di due valori74 campione169.TIF [  0  23  25  26  27  29  31 255]\n",
      "dopo invece 74 campione169.TIF [  0 255]\n"
     ]
    },
    {
     "name": "stderr",
     "output_type": "stream",
     "text": [
      " 34%|███▎      | 85/252 [01:07<05:05,  1.83s/it]"
     ]
    },
    {
     "name": "stdout",
     "output_type": "stream",
     "text": [
      "prima più di due valori85 campione179.TIF [  0   8  23  24  25  26  27  28  30  31  33  35  39 255]\n",
      "dopo invece 85 campione179.TIF [  0 255]\n"
     ]
    },
    {
     "name": "stderr",
     "output_type": "stream",
     "text": [
      " 34%|███▍      | 86/252 [01:16<10:25,  3.77s/it]"
     ]
    }
   ],
   "source": [
    "for ix,name in tqdm(enumerate(names), total = len(names)):\n",
    "\n",
    "        img_x = cv2.imread(PATH + name) \n",
    "        img_x = cv2.cvtColor(img_x, cv2.COLOR_BGR2RGB)\n",
    "        \n",
    "        if img_x is None:\n",
    "            name_x = name.replace('TIF','tif')\n",
    "            img_x = cv2.imread(PATH + name_x) \n",
    "            img_x = cv2.cvtColor(img_x, cv2.COLOR_BGR2RGB)\n",
    "            \n",
    "        try:\n",
    "        \n",
    "            img_y = cv2.imread(PATH_Y + name)\n",
    "            img_y = cv2.cvtColor(img_y, cv2.COLOR_BGR2RGB)[:,:,0:1]\n",
    "            \n",
    "        except:\n",
    "\n",
    "            name_y = name.replace('TIF','tif')\n",
    "            img_y = cv2.imread(PATH_Y + name_y)\n",
    "            img_y = cv2.cvtColor(img_y, cv2.COLOR_BGR2RGB)[:,:,0:1]\n",
    "        \n",
    "        if len(np.unique(img_y))>2:\n",
    "            print('prima più di due valori{} {} {}'.format(ix, name, np.unique(img_y)))\n",
    "        \n",
    "            ret,img_y = cv2.threshold(img_y,75,255,cv2.THRESH_BINARY)\n",
    "            \n",
    "            print('dopo invece {} {} {}'.format(ix, name, np.unique(img_y)))\n",
    "        \n",
    "        img_y = img_y.astype(bool)\n",
    "        img_y = remove_small_objects(img_y,min_size = 15)        \n",
    "        img_y = img_y.astype(np.uint8)*255\n",
    "        \n",
    "#         if idx in test_names:\n",
    "# #             print('TEST')\n",
    "        \n",
    "#             img_dir = PATH_TEST+'{}.TIF'.format(idx)\n",
    "#             mask_dir = PATH_TEST_Y+'{}.TIF'.format(idx)\n",
    "# #             plt.imsave(fname=img_dir, arr = np.squeeze(img_x))\n",
    "# #             plt.imsave(fname=mask_dir,arr = np.squeeze(img_y), cmap='gray')\n",
    "#             idx +=1 \n",
    "            \n",
    "#         else:\n",
    "                \n",
    "        img_dir = PATH_TRAIN+'{}.tiff'.format(ix)\n",
    "        mask_dir = PATH_TRAIN_Y+'{}.tiff'.format(ix)\n",
    "        plt.imsave(fname=img_dir, arr = np.squeeze(img_x))\n",
    "        plt.imsave(fname=mask_dir,arr = np.squeeze(img_y), cmap='gray')"
   ]
  },
  {
   "cell_type": "code",
   "execution_count": 97,
   "metadata": {},
   "outputs": [],
   "source": [
    "NEW_IMAGES = Path('DATASET/NEW_IMAGES/images/')\n",
    "NEW_MASKS =Path('DATASET/NEW_IMAGES/masks/')\n",
    "\n",
    "new_images = os.listdir(NEW_IMAGES)\n",
    "new_masks =os.listdir(NEW_MASKS)"
   ]
  },
  {
   "cell_type": "code",
   "execution_count": 102,
   "metadata": {},
   "outputs": [
    {
     "name": "stderr",
     "output_type": "stream",
     "text": [
      "\n",
      "\n",
      "\n",
      "\n",
      "\n",
      "\n",
      "\n",
      "  0%|          | 0/21 [00:00<?, ?it/s]\u001b[A\u001b[A\u001b[A\u001b[A\u001b[A\u001b[A\u001b[A"
     ]
    },
    {
     "name": "stdout",
     "output_type": "stream",
     "text": [
      "37.TIF\n"
     ]
    },
    {
     "name": "stderr",
     "output_type": "stream",
     "text": [
      "\n",
      "\n",
      "\n",
      "\n",
      "\n",
      "\n",
      "\n",
      "  5%|▍         | 1/21 [00:00<00:06,  2.92it/s]\u001b[A\u001b[A\u001b[A\u001b[A\u001b[A\u001b[A\u001b[A"
     ]
    },
    {
     "name": "stdout",
     "output_type": "stream",
     "text": [
      "38.TIF\n"
     ]
    },
    {
     "name": "stderr",
     "output_type": "stream",
     "text": [
      "\n",
      "\n",
      "\n",
      "\n",
      "\n",
      "\n",
      "\n",
      " 10%|▉         | 2/21 [00:00<00:07,  2.50it/s]\u001b[A\u001b[A\u001b[A\u001b[A\u001b[A\u001b[A\u001b[A"
     ]
    },
    {
     "name": "stdout",
     "output_type": "stream",
     "text": [
      "39.TIF\n"
     ]
    },
    {
     "name": "stderr",
     "output_type": "stream",
     "text": [
      "\n",
      "\n",
      "\n",
      "\n",
      "\n",
      "\n",
      "\n",
      " 14%|█▍        | 3/21 [00:01<00:06,  2.64it/s]\u001b[A\u001b[A\u001b[A\u001b[A\u001b[A\u001b[A\u001b[A"
     ]
    },
    {
     "name": "stdout",
     "output_type": "stream",
     "text": [
      "Mar33bS1C4R2_DMr_200x_y.TIF\n"
     ]
    },
    {
     "name": "stderr",
     "output_type": "stream",
     "text": [
      "\n",
      "\n",
      "\n",
      "\n",
      "\n",
      "\n",
      "\n",
      " 19%|█▉        | 4/21 [00:01<00:05,  2.98it/s]\u001b[A\u001b[A\u001b[A\u001b[A\u001b[A\u001b[A\u001b[A"
     ]
    },
    {
     "name": "stdout",
     "output_type": "stream",
     "text": [
      "Mar36bS1C6R2_DMl_200x_y.TIF\n"
     ]
    },
    {
     "name": "stderr",
     "output_type": "stream",
     "text": [
      "\n",
      "\n",
      "\n",
      "\n",
      "\n",
      "\n",
      "\n",
      " 24%|██▍       | 5/21 [00:01<00:04,  3.37it/s]\u001b[A\u001b[A\u001b[A\u001b[A\u001b[A\u001b[A\u001b[A\n",
      "\n",
      "\n",
      "\n",
      "\n",
      "\n",
      "\n",
      " 29%|██▊       | 6/21 [00:01<00:04,  3.74it/s]\u001b[A\u001b[A\u001b[A\u001b[A\u001b[A\u001b[A\u001b[A"
     ]
    },
    {
     "name": "stdout",
     "output_type": "stream",
     "text": [
      "Mar37S1C2R1_DMl_200x_o.TIF\n",
      "Mar37S1C2R1_DMr_200x_o.TIF\n"
     ]
    },
    {
     "name": "stderr",
     "output_type": "stream",
     "text": [
      "\n",
      "\n",
      "\n",
      "\n",
      "\n",
      "\n",
      "\n",
      " 33%|███▎      | 7/21 [00:02<00:03,  3.88it/s]\u001b[A\u001b[A\u001b[A\u001b[A\u001b[A\u001b[A\u001b[A"
     ]
    },
    {
     "name": "stdout",
     "output_type": "stream",
     "text": [
      "MAR38S1C3R1_DML_20_o.TIF\n"
     ]
    },
    {
     "name": "stderr",
     "output_type": "stream",
     "text": [
      "\n",
      "\n",
      "\n",
      "\n",
      "\n",
      "\n",
      "\n",
      " 38%|███▊      | 8/21 [00:02<00:03,  3.67it/s]\u001b[A\u001b[A\u001b[A\u001b[A\u001b[A\u001b[A\u001b[A"
     ]
    },
    {
     "name": "stdout",
     "output_type": "stream",
     "text": [
      "MAR38S1C3R1_DMR_20_o.TIF\n"
     ]
    },
    {
     "name": "stderr",
     "output_type": "stream",
     "text": [
      "\n",
      "\n",
      "\n",
      "\n",
      "\n",
      "\n",
      "\n",
      " 43%|████▎     | 9/21 [00:02<00:03,  3.45it/s]\u001b[A\u001b[A\u001b[A\u001b[A\u001b[A\u001b[A\u001b[A"
     ]
    },
    {
     "name": "stdout",
     "output_type": "stream",
     "text": [
      "MAR39S2C2R2_DML_200x_o.TIF\n"
     ]
    },
    {
     "name": "stderr",
     "output_type": "stream",
     "text": [
      "\n",
      "\n",
      "\n",
      "\n",
      "\n",
      "\n",
      "\n",
      " 48%|████▊     | 10/21 [00:02<00:03,  3.54it/s]\u001b[A\u001b[A\u001b[A\u001b[A\u001b[A\u001b[A\u001b[A"
     ]
    },
    {
     "name": "stdout",
     "output_type": "stream",
     "text": [
      "MAR39S2C2R2_DMR_200x_o.TIF\n"
     ]
    },
    {
     "name": "stderr",
     "output_type": "stream",
     "text": [
      "\n",
      "\n",
      "\n",
      "\n",
      "\n",
      "\n",
      "\n",
      " 52%|█████▏    | 11/21 [00:03<00:02,  3.38it/s]\u001b[A\u001b[A\u001b[A\u001b[A\u001b[A\u001b[A\u001b[A"
     ]
    },
    {
     "name": "stdout",
     "output_type": "stream",
     "text": [
      "Mar40S1C2R2_DMl_200x_o.TIF\n"
     ]
    },
    {
     "name": "stderr",
     "output_type": "stream",
     "text": [
      "\n",
      "\n",
      "\n",
      "\n",
      "\n",
      "\n",
      "\n",
      " 57%|█████▋    | 12/21 [00:03<00:02,  3.62it/s]\u001b[A\u001b[A\u001b[A\u001b[A\u001b[A\u001b[A\u001b[A"
     ]
    },
    {
     "name": "stdout",
     "output_type": "stream",
     "text": [
      "Mar40S1C2R2_DMr_200x_o.TIF\n"
     ]
    },
    {
     "name": "stderr",
     "output_type": "stream",
     "text": [
      "\n",
      "\n",
      "\n",
      "\n",
      "\n",
      "\n",
      "\n",
      " 62%|██████▏   | 13/21 [00:03<00:02,  3.73it/s]\u001b[A\u001b[A\u001b[A\u001b[A\u001b[A\u001b[A\u001b[A"
     ]
    },
    {
     "name": "stdout",
     "output_type": "stream",
     "text": [
      "Mar40S3C4R2_VLPAGr_200x_o.TIF\n"
     ]
    },
    {
     "name": "stderr",
     "output_type": "stream",
     "text": [
      "\n",
      "\n",
      "\n",
      "\n",
      "\n",
      "\n",
      "\n",
      " 67%|██████▋   | 14/21 [00:03<00:01,  4.02it/s]\u001b[A\u001b[A\u001b[A\u001b[A\u001b[A\u001b[A\u001b[A"
     ]
    },
    {
     "name": "stdout",
     "output_type": "stream",
     "text": [
      "Mar41S3C1R1_DMl_200x_o.TIF\n"
     ]
    },
    {
     "name": "stderr",
     "output_type": "stream",
     "text": [
      "\n",
      "\n",
      "\n",
      "\n",
      "\n",
      "\n",
      "\n",
      " 71%|███████▏  | 15/21 [00:04<00:01,  4.10it/s]\u001b[A\u001b[A\u001b[A\u001b[A\u001b[A\u001b[A\u001b[A"
     ]
    },
    {
     "name": "stdout",
     "output_type": "stream",
     "text": [
      "Mar41S3C1R1_DMr_200x_o.TIF\n"
     ]
    },
    {
     "name": "stderr",
     "output_type": "stream",
     "text": [
      "\n",
      "\n",
      "\n",
      "\n",
      "\n",
      "\n",
      "\n",
      " 76%|███████▌  | 16/21 [00:04<00:01,  3.66it/s]\u001b[A\u001b[A\u001b[A\u001b[A\u001b[A\u001b[A\u001b[A"
     ]
    },
    {
     "name": "stdout",
     "output_type": "stream",
     "text": [
      "Mar41S3C3R3_VLPAGl_200x_o.TIF\n"
     ]
    },
    {
     "name": "stderr",
     "output_type": "stream",
     "text": [
      "\n",
      "\n",
      "\n",
      "\n",
      "\n",
      "\n",
      "\n",
      " 81%|████████  | 17/21 [00:04<00:01,  3.49it/s]\u001b[A\u001b[A\u001b[A\u001b[A\u001b[A\u001b[A\u001b[A"
     ]
    },
    {
     "name": "stdout",
     "output_type": "stream",
     "text": [
      "Mar43S1C5R3_DMr_200x_o.TIF\n"
     ]
    },
    {
     "name": "stderr",
     "output_type": "stream",
     "text": [
      "\n",
      "\n",
      "\n",
      "\n",
      "\n",
      "\n",
      "\n",
      " 86%|████████▌ | 18/21 [00:05<00:00,  3.35it/s]\u001b[A\u001b[A\u001b[A\u001b[A\u001b[A\u001b[A\u001b[A"
     ]
    },
    {
     "name": "stdout",
     "output_type": "stream",
     "text": [
      "MAR52S2C1R3_LHL_20_o.TIF\n"
     ]
    },
    {
     "name": "stderr",
     "output_type": "stream",
     "text": [
      "\n",
      "\n",
      "\n",
      "\n",
      "\n",
      "\n",
      "\n",
      " 90%|█████████ | 19/21 [00:05<00:00,  3.21it/s]\u001b[A\u001b[A\u001b[A\u001b[A\u001b[A\u001b[A\u001b[A"
     ]
    },
    {
     "name": "stdout",
     "output_type": "stream",
     "text": [
      "MAR55S3C2R2_VLPAGL_20_o.TIF\n"
     ]
    },
    {
     "name": "stderr",
     "output_type": "stream",
     "text": [
      "\n",
      "\n",
      "\n",
      "\n",
      "\n",
      "\n",
      "\n",
      " 95%|█████████▌| 20/21 [00:05<00:00,  3.35it/s]\u001b[A\u001b[A\u001b[A\u001b[A\u001b[A\u001b[A\u001b[A"
     ]
    },
    {
     "name": "stdout",
     "output_type": "stream",
     "text": [
      "MAR55S3C2R2_VLPAGR_20_o.TIF\n"
     ]
    },
    {
     "name": "stderr",
     "output_type": "stream",
     "text": [
      "\n",
      "\n",
      "\n",
      "\n",
      "\n",
      "\n",
      "\n",
      "100%|██████████| 21/21 [00:06<00:00,  3.48it/s]\u001b[A\u001b[A\u001b[A\u001b[A\u001b[A\u001b[A\u001b[A\n"
     ]
    }
   ],
   "source": [
    "idx = 0\n",
    "shift = 252\n",
    "for im_name, mask_name in tqdm(zip(new_images, new_masks), total = len(new_images)):\n",
    "    \n",
    "        print(im_name)\n",
    "        img_x = cv2.imread(str(NEW_IMAGES) +'/'+ im_name) \n",
    "        img_x = cv2.cvtColor(img_x, cv2.COLOR_BGR2RGB)\n",
    "        img_y = cv2.imread(str(NEW_MASKS) +'/'+ mask_name)         \n",
    "        img_y = cv2.cvtColor(img_y, cv2.COLOR_BGR2RGB)[:,:,0:1]\n",
    "        \n",
    "        if len(np.unique(img_y))>2:\n",
    "        \n",
    "            ret,img_y = cv2.threshold(img_y,75,255,cv2.THRESH_BINARY)\n",
    "        \n",
    "        img_y = img_y.astype(bool)\n",
    "        img_y = remove_small_objects(img_y,min_size = 15)        \n",
    "        img_y = img_y.astype(np.uint8)*255\n",
    "\n",
    "                \n",
    "        img_dir = PATH_TRAIN+'{}.tiff'.format(shift+idx)\n",
    "        mask_dir = PATH_TRAIN_Y+'{}.tiff'.format(shift+idx)\n",
    "        plt.imsave(fname=img_dir, arr = np.squeeze(img_x))\n",
    "        plt.imsave(fname=mask_dir,arr = np.squeeze(img_y), cmap='gray')\n",
    "\n",
    "        idx +=1 "
   ]
  }
 ],
 "metadata": {
  "kernelspec": {
   "display_name": "Python 3",
   "language": "python",
   "name": "python3"
  },
  "language_info": {
   "codemirror_mode": {
    "name": "ipython",
    "version": 3
   },
   "file_extension": ".py",
   "mimetype": "text/x-python",
   "name": "python",
   "nbconvert_exporter": "python",
   "pygments_lexer": "ipython3",
   "version": "3.6.9"
  },
  "widgets": {
   "state": {},
   "version": "1.1.2"
  }
 },
 "nbformat": 4,
 "nbformat_minor": 4
}
