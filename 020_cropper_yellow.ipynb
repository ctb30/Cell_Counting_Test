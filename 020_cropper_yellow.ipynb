{
 "cells": [
  {
   "cell_type": "markdown",
   "metadata": {},
   "source": [
    "### General comment section"
   ]
  },
  {
   "cell_type": "code",
   "execution_count": 1,
   "metadata": {},
   "outputs": [],
   "source": [
    "# This notebook should be quite straightforward\n",
    "# No particolar issues to highilight\n",
    "\n",
    "#General comments:\n",
    "# move function to utils.py module\n",
    "# rewrite path for absolute path"
   ]
  },
  {
   "cell_type": "code",
   "execution_count": 1,
   "metadata": {},
   "outputs": [],
   "source": [
    "import glob\n",
    "import sys\n",
    "import numpy as np\n",
    "import imageio\n",
    "import cv2\n",
    "import random\n",
    "from skimage import transform\n",
    "import os\n",
    "from tqdm import tqdm\n",
    "from subprocess import check_output\n",
    "import matplotlib.pyplot as plt\n",
    "from importlib import import_module\n",
    "import pickle\n",
    "# from numba import jit\n",
    "from skimage.morphology import erosion"
   ]
  },
  {
   "cell_type": "code",
   "execution_count": 2,
   "metadata": {},
   "outputs": [],
   "source": [
    "# CHANGE PATH FOR GENERAL CODE\n",
    "# CHANGE PATH FOR GENERAL CODE\n",
    "# CHANGE PATH FOR GENERAL CODE\n",
    "# CHANGE PATH FOR GENERAL CODE\n",
    "\n",
    "LoadImagesForCrop =  'DATASET/TRAIN_VAL/all_images/images/'\n",
    "LoadLabelsForCrop = 'DATASET/TRAIN_VAL/all_masks/masks/'\n",
    "SaveCropImages =  'DATASET/TRAIN_VAL/all_cropped_images/images/' \n",
    "SaveCropMasks = 'DATASET/TRAIN_VAL/all_cropped_masks/masks/'\n",
    "\n",
    "# CHANGE PATH FOR GENERAL CODE\n",
    "# CHANGE PATH FOR GENERAL CODE\n",
    "# CHANGE PATH FOR GENERAL CODE\n",
    "# CHANGE PATH FOR GENERAL CODE\n",
    "\n",
    "IMG_WIDTH = 1600\n",
    "IMG_HEIGTH = 1200\n",
    "\n",
    "# Crop size \n",
    "XCropSize = 512\n",
    "YCropSize = 512\n",
    "# if the coord are lesser than the crop size\n",
    "# overlapping between crop is allowed\n",
    "# if XCropCoord = XCropSize and same for Y coord, no overlapping beetween crop\n",
    "XCropCoord = 400\n",
    "YCropCoord = 400\n",
    "\n",
    "XCropNum = int(IMG_WIDTH/XCropCoord)\n",
    "YCropNum = int(IMG_HEIGTH/YCropCoord)\n",
    "\n",
    "NumCropped = int(IMG_WIDTH/XCropCoord * IMG_HEIGTH/YCropCoord)\n",
    "\n",
    "YShift = YCropSize - YCropCoord\n",
    "XShift = XCropSize - XCropCoord\n",
    "\n",
    "x_coord = [XCropCoord*i for i in range(0, XCropNum+1)]\n",
    "y_coord = [YCropCoord*i for i in range(0, YCropNum+1)]"
   ]
  },
  {
   "cell_type": "code",
   "execution_count": 4,
   "metadata": {},
   "outputs": [],
   "source": [
    "def cropper(image, mask):\n",
    "    \n",
    "    \n",
    "    CroppedImgs = np.zeros((NumCropped, YCropSize, XCropSize, 3), np.uint8)\n",
    "    CroppedMasks = np.zeros((NumCropped, YCropSize, XCropSize), np.uint8)\n",
    "    idx = 0\n",
    "    \n",
    "    for i in range(0, 4):\n",
    "        for j in range(0, 3):\n",
    "                \n",
    "                if (i == 0) & (j == 0):\n",
    "                    CroppedImgs[idx] = image[y_coord[j]:y_coord[j+1] + YShift, x_coord[i]:x_coord[i+1] + XShift]\n",
    "                    CroppedMasks[idx] = mask[y_coord[j]:y_coord[j+1] + YShift, x_coord[i]:x_coord[i+1] + XShift]\n",
    "                    idx +=1 \n",
    "\n",
    "                if (i == 0) & (j != 0):\n",
    "                    CroppedImgs[idx] = image[y_coord[j] - YShift : y_coord[j+1], x_coord[i]:x_coord[i+1] + XShift]\n",
    "                    CroppedMasks[idx] = mask[y_coord[j] - YShift : y_coord[j+1], x_coord[i]:x_coord[i+1] + XShift]\n",
    "                    idx +=1 \n",
    "\n",
    "                if (i != 0) &  (j == 0):\n",
    "                    CroppedImgs[idx] = image[y_coord[j]:y_coord[j+1] + YShift, x_coord[i] - XShift :x_coord[i+1]]\n",
    "                    CroppedMasks[idx] = mask[y_coord[j]:y_coord[j+1] + YShift, x_coord[i] - XShift :x_coord[i+1]]\n",
    "                    idx +=1 \n",
    "\n",
    "                if (i != 0) &  (j != 0):\n",
    "                    CroppedImgs[idx] = image[y_coord[j] - YShift : y_coord[j+1], x_coord[i] - XShift :x_coord[i+1]]\n",
    "                    CroppedMasks[idx] = mask[y_coord[j] - YShift : y_coord[j+1], x_coord[i] - XShift :x_coord[i+1]]\n",
    "                    idx +=1   \n",
    "            \n",
    "    return CroppedImgs, CroppedMasks"
   ]
  },
  {
   "cell_type": "code",
   "execution_count": 5,
   "metadata": {},
   "outputs": [],
   "source": [
    "image_ids = os.listdir(LoadImagesForCrop)\n",
    "\n",
    "Number = [int(num.split('.')[0]) for num in image_ids]\n",
    "Number.sort()\n",
    "\n",
    "image_ids = [str(num) + '.tiff' for num in Number]"
   ]
  },
  {
   "cell_type": "code",
   "execution_count": 6,
   "metadata": {},
   "outputs": [],
   "source": [
    "def read_image_labels(image_id):\n",
    "     \n",
    "        x = cv2.imread(LoadImagesForCrop + image_id)\n",
    "        image = cv2.cvtColor(x, cv2.COLOR_BGR2RGB)\n",
    "        mask = cv2.imread(LoadLabelsForCrop + image_id)\n",
    "        mask = cv2.cvtColor(mask, cv2.COLOR_BGR2RGB)\n",
    "        \n",
    "        return image, mask\n",
    "\n",
    "def make_cropper(image_ids, SaveCropImages, SaveCropMasks, shift = 0):\n",
    "    ix = shift\n",
    "\n",
    "    for ax_index, name in tqdm(enumerate(image_ids),total=len(image_ids)):\n",
    "        \n",
    "        if name == '252.tiff':\n",
    "            print(ix)\n",
    "        \n",
    "        image, mask = read_image_labels(name)\n",
    "        \n",
    "        if int(name.split('.')[0]) <= 252:\n",
    "            mask = erosion(np.squeeze(mask[:,:,0:1]), selem=np.ones([2,2]))\n",
    "        else:\n",
    "             mask = np.squeeze(mask[:,:,0:1])\n",
    "            \n",
    "       \n",
    "        CroppedImages, CroppedMasks = cropper(image, mask)                                     \n",
    "        \n",
    "        for i in range(0,NumCropped):\n",
    "            \n",
    "            crop_imgs_dir = SaveCropImages + '{}.tiff'.format(ix)\n",
    "            crop_masks_dir = SaveCropMasks + '{}.tiff'.format(ix) \n",
    "\n",
    "            plt.imsave(fname= crop_imgs_dir, arr = CroppedImages[i])\n",
    "            plt.imsave(fname= crop_masks_dir,arr = CroppedMasks[i], cmap='gray')\n",
    "\n",
    "            ix +=1\n",
    "    return"
   ]
  },
  {
   "cell_type": "code",
   "execution_count": 7,
   "metadata": {},
   "outputs": [
    {
     "name": "stderr",
     "output_type": "stream",
     "text": [
      " 91%|█████████ | 193/213 [02:09<00:11,  1.78it/s]"
     ]
    },
    {
     "name": "stdout",
     "output_type": "stream",
     "text": [
      "2316\n"
     ]
    },
    {
     "name": "stderr",
     "output_type": "stream",
     "text": [
      "100%|██████████| 213/213 [02:22<00:00,  1.50it/s]\n"
     ]
    }
   ],
   "source": [
    "make_cropper(image_ids, SaveCropImages,SaveCropMasks)"
   ]
  }
 ],
 "metadata": {
  "kernelspec": {
   "display_name": "Python 3",
   "language": "python",
   "name": "python3"
  },
  "language_info": {
   "codemirror_mode": {
    "name": "ipython",
    "version": 3
   },
   "file_extension": ".py",
   "mimetype": "text/x-python",
   "name": "python",
   "nbconvert_exporter": "python",
   "pygments_lexer": "ipython3",
   "version": "3.6.9"
  },
  "widgets": {
   "state": {},
   "version": "1.1.2"
  }
 },
 "nbformat": 4,
 "nbformat_minor": 4
}
