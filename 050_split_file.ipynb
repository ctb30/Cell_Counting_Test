{
 "cells": [
  {
   "cell_type": "code",
   "execution_count": 1,
   "metadata": {},
   "outputs": [],
   "source": [
    "import os\n",
    "from shutil import move\n",
    "from tqdm import tqdm\n",
    "from pathlib import Path\n",
    "\n",
    "# from config_script import *"
   ]
  },
  {
   "cell_type": "code",
   "execution_count": 2,
   "metadata": {},
   "outputs": [],
   "source": [
    "def SplitImagesInFolders(folder, fol_type):\n",
    "    \n",
    "    file_per_folder = 1000\n",
    "    \n",
    "    images = os.listdir(folder)\n",
    "    images.sort()\n",
    "    \n",
    "    if len(images) % file_per_folder != 0:\n",
    "        nfolder = len(images) // file_per_folder + 1\n",
    "    else:\n",
    "        nfolder = len(images) // file_per_folder\n",
    "            \n",
    "    for i in range(nfolder):\n",
    "        os.makedirs(str(folder.parent / fol_type)+str(i),exist_ok=True)\n",
    "        \n",
    "    for i,name in tqdm(enumerate(images)):\n",
    "        fol = i // file_per_folder\n",
    "        dest_name = fol_type+str(fol)+'/'+name \n",
    "        move(str(folder / name), str(folder.parent / dest_name))\n",
    "   "
   ]
  },
  {
   "cell_type": "code",
   "execution_count": 3,
   "metadata": {},
   "outputs": [
    {
     "name": "stderr",
     "output_type": "stream",
     "text": [
      "15336it [00:00, 30832.84it/s]\n"
     ]
    }
   ],
   "source": [
    "SplitImagesInFolders(Path('DATASET/TRAIN_VAL/all_cropped_images/images/'), 'images')"
   ]
  },
  {
   "cell_type": "code",
   "execution_count": 4,
   "metadata": {},
   "outputs": [
    {
     "name": "stderr",
     "output_type": "stream",
     "text": [
      "15336it [00:00, 32887.37it/s]\n"
     ]
    }
   ],
   "source": [
    "SplitImagesInFolders(Path('DATASET/TRAIN_VAL/all_weighted_masks/masks/'), 'masks')"
   ]
  }
 ],
 "metadata": {
  "kernelspec": {
   "display_name": "Python 3",
   "language": "python",
   "name": "python3"
  },
  "language_info": {
   "codemirror_mode": {
    "name": "ipython",
    "version": 3
   },
   "file_extension": ".py",
   "mimetype": "text/x-python",
   "name": "python",
   "nbconvert_exporter": "python",
   "pygments_lexer": "ipython3",
   "version": "3.6.7"
  }
 },
 "nbformat": 4,
 "nbformat_minor": 2
}
