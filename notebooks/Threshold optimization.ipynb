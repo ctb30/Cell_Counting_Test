{
 "cells": [
  {
   "cell_type": "markdown",
   "metadata": {},
   "source": [
    "# Introduction\n",
    "State notebook purpose here"
   ]
  },
  {
   "cell_type": "markdown",
   "metadata": {},
   "source": [
    "### Imports\n",
    "Import libraries and write settings here."
   ]
  },
  {
   "cell_type": "code",
   "execution_count": 1,
   "metadata": {
    "ExecuteTime": {
     "end_time": "2020-12-30T11:25:58.268680Z",
     "start_time": "2020-12-30T11:25:57.421830Z"
    }
   },
   "outputs": [],
   "source": [
    "# Data manipulation\n",
    "from pathlib import Path\n",
    "from skimage.feature import peak_local_max\n",
    "from skimage.morphology import remove_small_holes, remove_small_objects, label\n",
    "from skimage.segmentation import watershed\n",
    "from skimage.filters import sobel\n",
    "from scipy import ndimage\n",
    "from math import hypot\n",
    "import pandas as pd\n",
    "import numpy as np\n",
    "\n",
    "import multiprocessing as mp\n",
    "from tqdm import tqdm\n",
    "import cv2\n",
    "from matplotlib import pyplot as plt\n",
    "\n",
    "# Options for pandas\n",
    "pd.options.display.max_columns = 50\n",
    "pd.options.display.max_rows = 30\n",
    "pd.options.display.float_format = '{:,.4f}'.format\n",
    "\n",
    "# Filter-based prediction"
   ]
  },
  {
   "cell_type": "markdown",
   "metadata": {},
   "source": [
    "# Analysis/Modeling\n",
    "Do work here"
   ]
  },
  {
   "cell_type": "code",
   "execution_count": 21,
   "metadata": {
    "ExecuteTime": {
     "end_time": "2020-12-30T11:46:42.786676Z",
     "start_time": "2020-12-30T11:46:42.783338Z"
    }
   },
   "outputs": [],
   "source": [
    "repo_path = Path(\"/home/luca/PycharmProjects/cell_counting_yellow\")\n",
    "TRAIN_IMG_PATH = repo_path / \"DATASET/OLD/sample_train/images\"\n",
    "TRAIN_MASKS_PATH = repo_path / \"DATASET/OLD/sample_train/masks\""
   ]
  },
  {
   "cell_type": "code",
   "execution_count": 7,
   "metadata": {
    "ExecuteTime": {
     "end_time": "2020-12-30T11:26:47.370678Z",
     "start_time": "2020-12-30T11:26:47.344690Z"
    }
   },
   "outputs": [],
   "source": [
    "def mean_iou(y_true, y_pred):\n",
    "    prec = []\n",
    "    t = 0.95\n",
    "    y_pred_ = tf.to_int32(y_pred > t)\n",
    "    score, up_opt = tf.metrics.mean_iou(y_true, y_pred_, 2)\n",
    "    K.get_session().run(tf.local_variables_initializer())\n",
    "    with tf.control_dependencies([up_opt]):\n",
    "        score = tf.identity(score)\n",
    "    prec.append(score)\n",
    "    return K.mean(K.stack(prec), axis=0)\n",
    "\n",
    "smooth = 1.\n",
    "\n",
    "def dice_coef(y_true, y_pred):\n",
    "    y_true_f = K.flatten(y_true)\n",
    "    y_pred_f = K.flatten(y_pred)\n",
    "    intersection = K.sum(y_true_f * y_pred_f)\n",
    "    return (2. * intersection + smooth) / (K.sum(y_true_f) + K.sum(y_pred_f) + smooth)\n",
    "\n",
    "def create_weighted_binary_crossentropy(zero_weight, one_weight):\n",
    "\n",
    "    def weighted_binary_crossentropy(y_true, y_pred):\n",
    "\n",
    "        b_ce = K.binary_crossentropy(y_true, y_pred)\n",
    "\n",
    "        # Apply the weights\n",
    "        weight_vector = y_true * one_weight + (1. - y_true) * zero_weight\n",
    "        weighted_b_ce = weight_vector * b_ce\n",
    "\n",
    "        # Return the mean error\n",
    "        return K.mean(weighted_b_ce)\n",
    "\n",
    "    return weighted_binary_crossentropy\n",
    "\n",
    "WeightedLoss = create_weighted_binary_crossentropy(1, 1.5)"
   ]
  },
  {
   "cell_type": "code",
   "execution_count": 9,
   "metadata": {
    "ExecuteTime": {
     "end_time": "2020-12-30T11:27:40.504676Z",
     "start_time": "2020-12-30T11:27:38.393888Z"
    }
   },
   "outputs": [
    {
     "name": "stdout",
     "output_type": "stream",
     "text": [
      "WARNING:tensorflow:From /home/luca/anaconda3/envs/cc_env/lib/python3.6/site-packages/keras/backend/tensorflow_backend.py:517: The name tf.placeholder is deprecated. Please use tf.compat.v1.placeholder instead.\n",
      "\n",
      "WARNING:tensorflow:From /home/luca/anaconda3/envs/cc_env/lib/python3.6/site-packages/keras/backend/tensorflow_backend.py:4185: The name tf.truncated_normal is deprecated. Please use tf.random.truncated_normal instead.\n",
      "\n",
      "WARNING:tensorflow:From /home/luca/anaconda3/envs/cc_env/lib/python3.6/site-packages/keras/backend/tensorflow_backend.py:245: The name tf.get_default_graph is deprecated. Please use tf.compat.v1.get_default_graph instead.\n",
      "\n",
      "WARNING:tensorflow:From /home/luca/anaconda3/envs/cc_env/lib/python3.6/site-packages/keras/backend/tensorflow_backend.py:174: The name tf.get_default_session is deprecated. Please use tf.compat.v1.get_default_session instead.\n",
      "\n",
      "WARNING:tensorflow:From /home/luca/anaconda3/envs/cc_env/lib/python3.6/site-packages/keras/backend/tensorflow_backend.py:181: The name tf.ConfigProto is deprecated. Please use tf.compat.v1.ConfigProto instead.\n",
      "\n",
      "WARNING:tensorflow:From /home/luca/anaconda3/envs/cc_env/lib/python3.6/site-packages/keras/backend/tensorflow_backend.py:1834: The name tf.nn.fused_batch_norm is deprecated. Please use tf.compat.v1.nn.fused_batch_norm instead.\n",
      "\n",
      "WARNING:tensorflow:From /home/luca/anaconda3/envs/cc_env/lib/python3.6/site-packages/keras/backend/tensorflow_backend.py:3976: The name tf.nn.max_pool is deprecated. Please use tf.nn.max_pool2d instead.\n",
      "\n"
     ]
    }
   ],
   "source": [
    "from keras.models import load_model, Model, Sequential\n",
    "from keras import backend as K\n",
    "import tensorflow as tf\n",
    "\n",
    "model_name = \"ResUnet.h5\"\n",
    "model_path = \"{}/model_results/{}\".format(repo_path, model_name)\n",
    "\n",
    "model = load_model(model_path, custom_objects={'mean_iou': mean_iou, 'dice_coef': dice_coef, \n",
    "                                                    'weighted_binary_crossentropy': WeightedLoss}, compile=False)   "
   ]
  },
  {
   "cell_type": "code",
   "execution_count": 10,
   "metadata": {
    "ExecuteTime": {
     "end_time": "2020-12-30T11:27:45.916345Z",
     "start_time": "2020-12-30T11:27:45.878000Z"
    }
   },
   "outputs": [],
   "source": [
    "def mask_post_processing(thresh_image, area_threshold=600, min_obj_size=200, max_dist=30):\n",
    "\n",
    "    # Find object in predicted image\n",
    "    labels_pred, nlabels_pred = ndimage.label(thresh_image)\n",
    "    processed = remove_small_holes(labels_pred, area_threshold=area_threshold, connectivity=8,\n",
    "                                   in_place=False)\n",
    "    processed = remove_small_objects(\n",
    "        processed, min_size=min_obj_size, connectivity=1, in_place=False)\n",
    "    labels_bool = processed.astype(bool)\n",
    "\n",
    "    distance = ndimage.distance_transform_edt(processed)\n",
    "\n",
    "    maxi = ndimage.maximum_filter(distance, size=max_dist, mode='constant')\n",
    "    local_maxi = peak_local_max(maxi, indices=False, footprint=np.ones((40, 40)),\n",
    "                                exclude_border=False,\n",
    "                                labels=labels_bool)\n",
    "\n",
    "    local_maxi = remove_small_objects(\n",
    "        local_maxi, min_size=25, connectivity=1, in_place=False)\n",
    "    markers = ndimage.label(local_maxi)[0]\n",
    "    labels = watershed(-distance, markers, mask=labels_bool,\n",
    "                       compactness=1, watershed_line=True)\n",
    "\n",
    "    return(labels.astype(\"uint8\")*255)\n",
    "\n",
    "\n",
    "def make_UNet_prediction(img_path, threshold, model, colorspace=\"rgb\"):\n",
    "\n",
    "    # read input image\n",
    "    img = cv2.imread(str(img_path), cv2.IMREAD_COLOR)\n",
    "    img = cv2.cvtColor(img, cv2.COLOR_BGR2RGB)\n",
    "    img = np.expand_dims(img, 0)\n",
    "\n",
    "    # compute prediction\n",
    "    predicted_map = model.predict(img/255.)\n",
    "\n",
    "    # threshold the predicted heatmap\n",
    "    thresh_image = np.squeeze((predicted_map > threshold).astype('uint8'))\n",
    "    thresh_image = mask_post_processing(thresh_image)\n",
    "\n",
    "    return(thresh_image)\n",
    "\n",
    "\n",
    "def compute_metrics(pred_mask_binary, mask, metrics, img_name):\n",
    "    # extract predicted objects and counts\n",
    "    pred_label, pred_count = ndimage.label(pred_mask_binary)\n",
    "    pred_objs = ndimage.find_objects(pred_label)\n",
    "\n",
    "    # compute centers of predicted objects\n",
    "    pred_centers = []\n",
    "    for ob in pred_objs:\n",
    "        pred_centers.append(((int((ob[0].stop - ob[0].start)/2)+ob[0].start),\n",
    "                             (int((ob[1].stop - ob[1].start)/2)+ob[1].start)))\n",
    "\n",
    "    # extract target objects and counts\n",
    "    targ_label, targ_count = ndimage.label(mask)\n",
    "    targ_objs = ndimage.find_objects(targ_label)\n",
    "\n",
    "    # compute centers of target objects\n",
    "    targ_center = []\n",
    "    for ob in targ_objs:\n",
    "        targ_center.append(((int((ob[0].stop - ob[0].start)/2)+ob[0].start),\n",
    "                            (int((ob[1].stop - ob[1].start)/2)+ob[1].start)))\n",
    "\n",
    "    # associate matching objects, true positives\n",
    "    tp = 0\n",
    "    fp = 0\n",
    "    for pred_idx, pred_obj in enumerate(pred_objs):\n",
    "\n",
    "        min_dist = 50  # 1.5-cells distance is the maximum accepted\n",
    "        TP_flag = 0\n",
    "\n",
    "        for targ_idx, targ_obj in enumerate(targ_objs):\n",
    "\n",
    "            dist = hypot(pred_centers[pred_idx][0]-targ_center[targ_idx][0],\n",
    "                         pred_centers[pred_idx][1]-targ_center[targ_idx][1])\n",
    "\n",
    "            if dist < min_dist:\n",
    "\n",
    "                TP_flag = 1\n",
    "                min_dist = dist\n",
    "                index = targ_idx\n",
    "\n",
    "        if TP_flag == 1:\n",
    "            tp += 1\n",
    "            TP_flag = 0\n",
    "\n",
    "            targ_center.pop(index)\n",
    "            targ_objs.pop(index)\n",
    "\n",
    "    # derive false negatives and false positives\n",
    "    fn = targ_count - tp\n",
    "    fp = pred_count - tp\n",
    "\n",
    "    # update metrics dataframe\n",
    "    metrics.loc[img_name] = [tp, fp, fn, targ_count, pred_count]\n",
    "\n",
    "    return(metrics)\n",
    "\n",
    "\n",
    "def F1Score(metrics):\n",
    "    # compute performance measure for the current quantile filter\n",
    "    tot_tp_test = metrics[\"TP\"].sum()\n",
    "    tot_fp_test = metrics[\"FP\"].sum()\n",
    "    tot_fn_test = metrics[\"FN\"].sum()\n",
    "    tot_abs_diff = abs(metrics[\"Target_count\"] - metrics[\"Predicted_count\"])\n",
    "    tot_perc_diff = (metrics[\"Predicted_count\"] -\n",
    "                     metrics[\"Target_count\"])/(metrics[\"Target_count\"]+10**(-6))\n",
    "    accuracy = (tot_tp_test + 0.001)/(tot_tp_test +\n",
    "                                      tot_fp_test + tot_fn_test + 0.001)\n",
    "    precision = (tot_tp_test + 0.001)/(tot_tp_test + tot_fp_test + 0.001)\n",
    "    recall = (tot_tp_test + 0.001)/(tot_tp_test + tot_fn_test + 0.001)\n",
    "    F1_score = 2*precision*recall/(precision + recall)\n",
    "    MAE = tot_abs_diff.mean()\n",
    "    MedAE = tot_abs_diff.median()\n",
    "    MPE = tot_perc_diff.mean()\n",
    "\n",
    "    return(F1_score, MAE, MedAE, MPE, accuracy, precision, recall)"
   ]
  },
  {
   "cell_type": "code",
   "execution_count": 22,
   "metadata": {
    "ExecuteTime": {
     "end_time": "2020-12-30T11:52:36.279258Z",
     "start_time": "2020-12-30T11:46:50.900919Z"
    }
   },
   "outputs": [
    {
     "name": "stderr",
     "output_type": "stream",
     "text": [
      "  0%|          | 0/14 [00:00<?, ?it/s]/home/luca/anaconda3/envs/cc_env/lib/python3.6/site-packages/ipykernel_launcher.py:6: UserWarning: Any labeled images will be returned as a boolean array. Did you mean to use a boolean array?\n",
      "  \n",
      "100%|██████████| 14/14 [05:45<00:00, 24.67s/it]"
     ]
    },
    {
     "name": "stdout",
     "output_type": "stream",
     "text": [
      "CPU times: user 43min 15s, sys: 4min 47s, total: 48min 3s\n",
      "Wall time: 5min 45s\n"
     ]
    },
    {
     "name": "stderr",
     "output_type": "stream",
     "text": [
      "\n"
     ]
    }
   ],
   "source": [
    "%%time\n",
    "import multiprocessing as mp\n",
    "from tqdm import tqdm\n",
    "import cv2\n",
    "from matplotlib import pyplot as plt\n",
    "\n",
    "\n",
    "# create threshold grid for optimization\n",
    "threshold_seq = np.arange(start=0.2, stop=0.9, step=0.05)\n",
    "metrics_df_validation_rgb = pd.DataFrame(None, columns=[\"F1\", \"MAE\", \"MedAE\", \"MPE\", \"accuracy\",\n",
    "                                                        \"precision\", \"recall\"])\n",
    "\n",
    "for _, threshold in tqdm(enumerate(threshold_seq), total=len(threshold_seq)):\n",
    "    # create dataframes for storing performance measures\n",
    "    validation_metrics_rgb = pd.DataFrame(\n",
    "        columns=[\"TP\", \"FP\", \"FN\", \"Target_count\", \"Predicted_count\"])\n",
    "\n",
    "    # loop on training images\n",
    "    for _, img_path in enumerate(TRAIN_IMG_PATH.iterdir()):\n",
    "        mask_path = TRAIN_MASKS_PATH / img_path.name\n",
    "\n",
    "        # compute predicted mask and read original mask\n",
    "        img = cv2.imread(str(img_path), cv2.IMREAD_COLOR)\n",
    "\n",
    "        pred_mask_rgb = make_UNet_prediction(\n",
    "            img_path, threshold, model)\n",
    "        mask = cv2.imread(str(mask_path), cv2.IMREAD_GRAYSCALE)\n",
    "        compute_metrics(pred_mask_rgb, mask,\n",
    "                        validation_metrics_rgb, img_path.name)\n",
    "    metrics_df_validation_rgb.loc[threshold] = F1Score(validation_metrics_rgb)\n",
    "#     pool = mp.Pool(min(K, 8))\n",
    "\n",
    "#     F1_score_rgb = pool.map(F1Score, [validation_metrics_rgb[cv_subsamples_idx[t]:cv_subsamples_idx[t+1]]\n",
    "#                                       for t in range(len(cv_subsamples_idx)-1)])\n",
    "\n",
    "#     pool.close()"
   ]
  },
  {
   "cell_type": "code",
   "execution_count": 23,
   "metadata": {
    "ExecuteTime": {
     "end_time": "2020-12-30T11:52:36.290380Z",
     "start_time": "2020-12-30T11:52:36.281051Z"
    }
   },
   "outputs": [
    {
     "data": {
      "text/html": [
       "<div>\n",
       "<style scoped>\n",
       "    .dataframe tbody tr th:only-of-type {\n",
       "        vertical-align: middle;\n",
       "    }\n",
       "\n",
       "    .dataframe tbody tr th {\n",
       "        vertical-align: top;\n",
       "    }\n",
       "\n",
       "    .dataframe thead th {\n",
       "        text-align: right;\n",
       "    }\n",
       "</style>\n",
       "<table border=\"1\" class=\"dataframe\">\n",
       "  <thead>\n",
       "    <tr style=\"text-align: right;\">\n",
       "      <th></th>\n",
       "      <th>F1</th>\n",
       "      <th>MAE</th>\n",
       "      <th>MedAE</th>\n",
       "      <th>MPE</th>\n",
       "      <th>accuracy</th>\n",
       "      <th>precision</th>\n",
       "      <th>recall</th>\n",
       "    </tr>\n",
       "  </thead>\n",
       "  <tbody>\n",
       "    <tr>\n",
       "      <th>0.2000</th>\n",
       "      <td>0.8043</td>\n",
       "      <td>2.9091</td>\n",
       "      <td>2.0000</td>\n",
       "      <td>0.4199</td>\n",
       "      <td>0.6727</td>\n",
       "      <td>0.6981</td>\n",
       "      <td>0.9487</td>\n",
       "    </tr>\n",
       "    <tr>\n",
       "      <th>0.2500</th>\n",
       "      <td>0.8177</td>\n",
       "      <td>2.6364</td>\n",
       "      <td>2.0000</td>\n",
       "      <td>0.4017</td>\n",
       "      <td>0.6916</td>\n",
       "      <td>0.7184</td>\n",
       "      <td>0.9487</td>\n",
       "    </tr>\n",
       "    <tr>\n",
       "      <th>0.3000</th>\n",
       "      <td>0.8295</td>\n",
       "      <td>2.1818</td>\n",
       "      <td>2.0000</td>\n",
       "      <td>0.3281</td>\n",
       "      <td>0.7087</td>\n",
       "      <td>0.7449</td>\n",
       "      <td>0.9359</td>\n",
       "    </tr>\n",
       "    <tr>\n",
       "      <th>0.3500</th>\n",
       "      <td>0.8538</td>\n",
       "      <td>1.7273</td>\n",
       "      <td>1.0000</td>\n",
       "      <td>0.2898</td>\n",
       "      <td>0.7449</td>\n",
       "      <td>0.7849</td>\n",
       "      <td>0.9359</td>\n",
       "    </tr>\n",
       "    <tr>\n",
       "      <th>0.4000</th>\n",
       "      <td>0.8571</td>\n",
       "      <td>1.6364</td>\n",
       "      <td>1.0000</td>\n",
       "      <td>0.2616</td>\n",
       "      <td>0.7500</td>\n",
       "      <td>0.8000</td>\n",
       "      <td>0.9231</td>\n",
       "    </tr>\n",
       "    <tr>\n",
       "      <th>0.4500</th>\n",
       "      <td>0.8434</td>\n",
       "      <td>1.6364</td>\n",
       "      <td>2.0000</td>\n",
       "      <td>0.2455</td>\n",
       "      <td>0.7292</td>\n",
       "      <td>0.7955</td>\n",
       "      <td>0.8974</td>\n",
       "    </tr>\n",
       "    <tr>\n",
       "      <th>0.5000</th>\n",
       "      <td>0.8519</td>\n",
       "      <td>1.6364</td>\n",
       "      <td>1.0000</td>\n",
       "      <td>0.2030</td>\n",
       "      <td>0.7419</td>\n",
       "      <td>0.8214</td>\n",
       "      <td>0.8846</td>\n",
       "    </tr>\n",
       "    <tr>\n",
       "      <th>0.5500</th>\n",
       "      <td>0.8571</td>\n",
       "      <td>1.7273</td>\n",
       "      <td>1.0000</td>\n",
       "      <td>0.1929</td>\n",
       "      <td>0.7500</td>\n",
       "      <td>0.8313</td>\n",
       "      <td>0.8846</td>\n",
       "    </tr>\n",
       "    <tr>\n",
       "      <th>0.6000</th>\n",
       "      <td>0.8662</td>\n",
       "      <td>1.5455</td>\n",
       "      <td>1.0000</td>\n",
       "      <td>0.1375</td>\n",
       "      <td>0.7640</td>\n",
       "      <td>0.8608</td>\n",
       "      <td>0.8718</td>\n",
       "    </tr>\n",
       "    <tr>\n",
       "      <th>0.6500</th>\n",
       "      <td>0.8662</td>\n",
       "      <td>1.5455</td>\n",
       "      <td>1.0000</td>\n",
       "      <td>0.1375</td>\n",
       "      <td>0.7640</td>\n",
       "      <td>0.8608</td>\n",
       "      <td>0.8718</td>\n",
       "    </tr>\n",
       "    <tr>\n",
       "      <th>0.7000</th>\n",
       "      <td>0.8645</td>\n",
       "      <td>1.3636</td>\n",
       "      <td>1.0000</td>\n",
       "      <td>0.0952</td>\n",
       "      <td>0.7614</td>\n",
       "      <td>0.8701</td>\n",
       "      <td>0.8590</td>\n",
       "    </tr>\n",
       "    <tr>\n",
       "      <th>0.7500</th>\n",
       "      <td>0.8456</td>\n",
       "      <td>1.3636</td>\n",
       "      <td>1.0000</td>\n",
       "      <td>0.0316</td>\n",
       "      <td>0.7326</td>\n",
       "      <td>0.8873</td>\n",
       "      <td>0.8077</td>\n",
       "    </tr>\n",
       "    <tr>\n",
       "      <th>0.8000</th>\n",
       "      <td>0.8252</td>\n",
       "      <td>1.9091</td>\n",
       "      <td>1.0000</td>\n",
       "      <td>-0.0177</td>\n",
       "      <td>0.7024</td>\n",
       "      <td>0.9077</td>\n",
       "      <td>0.7564</td>\n",
       "    </tr>\n",
       "    <tr>\n",
       "      <th>0.8500</th>\n",
       "      <td>0.7883</td>\n",
       "      <td>2.2727</td>\n",
       "      <td>1.0000</td>\n",
       "      <td>-0.0887</td>\n",
       "      <td>0.6506</td>\n",
       "      <td>0.9153</td>\n",
       "      <td>0.6923</td>\n",
       "    </tr>\n",
       "  </tbody>\n",
       "</table>\n",
       "</div>"
      ],
      "text/plain": [
       "           F1    MAE  MedAE     MPE  accuracy  precision  recall\n",
       "0.2000 0.8043 2.9091 2.0000  0.4199    0.6727     0.6981  0.9487\n",
       "0.2500 0.8177 2.6364 2.0000  0.4017    0.6916     0.7184  0.9487\n",
       "0.3000 0.8295 2.1818 2.0000  0.3281    0.7087     0.7449  0.9359\n",
       "0.3500 0.8538 1.7273 1.0000  0.2898    0.7449     0.7849  0.9359\n",
       "0.4000 0.8571 1.6364 1.0000  0.2616    0.7500     0.8000  0.9231\n",
       "0.4500 0.8434 1.6364 2.0000  0.2455    0.7292     0.7955  0.8974\n",
       "0.5000 0.8519 1.6364 1.0000  0.2030    0.7419     0.8214  0.8846\n",
       "0.5500 0.8571 1.7273 1.0000  0.1929    0.7500     0.8313  0.8846\n",
       "0.6000 0.8662 1.5455 1.0000  0.1375    0.7640     0.8608  0.8718\n",
       "0.6500 0.8662 1.5455 1.0000  0.1375    0.7640     0.8608  0.8718\n",
       "0.7000 0.8645 1.3636 1.0000  0.0952    0.7614     0.8701  0.8590\n",
       "0.7500 0.8456 1.3636 1.0000  0.0316    0.7326     0.8873  0.8077\n",
       "0.8000 0.8252 1.9091 1.0000 -0.0177    0.7024     0.9077  0.7564\n",
       "0.8500 0.7883 2.2727 1.0000 -0.0887    0.6506     0.9153  0.6923"
      ]
     },
     "execution_count": 23,
     "metadata": {},
     "output_type": "execute_result"
    }
   ],
   "source": [
    "metrics_df_validation_rgb"
   ]
  },
  {
   "cell_type": "code",
   "execution_count": 25,
   "metadata": {
    "ExecuteTime": {
     "end_time": "2020-12-30T12:13:37.965198Z",
     "start_time": "2020-12-30T12:13:37.958536Z"
    }
   },
   "outputs": [],
   "source": [
    "save_path = repo_path / \"results\"\n",
    "save_path.mkdir(parents=True, exist_ok=True)\n",
    "outname = save_path / 'metrics.csv'\n",
    "metrics_df_validation_rgb.to_csv(outname, index = True, index_label='Threshold')"
   ]
  },
  {
   "cell_type": "code",
   "execution_count": null,
   "metadata": {},
   "outputs": [],
   "source": [
    "# df_read = pd.read_csv(outname)"
   ]
  },
  {
   "cell_type": "code",
   "execution_count": null,
   "metadata": {},
   "outputs": [],
   "source": [
    "# df_read.head()"
   ]
  },
  {
   "cell_type": "code",
   "execution_count": 30,
   "metadata": {
    "ExecuteTime": {
     "end_time": "2020-12-30T12:19:33.233886Z",
     "start_time": "2020-12-30T12:19:33.215937Z"
    }
   },
   "outputs": [],
   "source": [
    "def plot_thresh_opt(df, save_path=None):\n",
    "    line = df.plot(y=\"F1\", linewidth=2, markersize=6, legend=False), \n",
    "    line = plt.title('$F_1$ score: threshold optimization', size =18, weight='bold')\n",
    "    line = plt.ylabel('$F_1$ score', size=15)\n",
    "    line = plt.xlabel('Threshold', size=15 )\n",
    "    line = plt.axvline(df.F1.idxmax(), color='firebrick', linestyle='--')\n",
    "    if save_path:\n",
    "        outname = save_path / 'f1_score_thresh_opt.png'\n",
    "        _ = plt.savefig(outname, dpi = 900, bbox_inches='tight' )\n",
    "    return line"
   ]
  },
  {
   "cell_type": "code",
   "execution_count": 31,
   "metadata": {
    "ExecuteTime": {
     "end_time": "2020-12-30T12:19:35.313650Z",
     "start_time": "2020-12-30T12:19:34.124274Z"
    }
   },
   "outputs": [
    {
     "data": {
      "image/png": "[encoded data removed]",
      "text/plain": [
       "<Figure size 432x288 with 1 Axes>"
      ]
     },
     "metadata": {
      "needs_background": "light"
     },
     "output_type": "display_data"
    }
   ],
   "source": [
    "_ = plot_thresh_opt(metrics_df_validation_rgb, save_path)"
   ]
  },
  {
   "cell_type": "code",
   "execution_count": null,
   "metadata": {},
   "outputs": [],
   "source": [
    "# metrics_df_validation_rgb = df_read.copy()"
   ]
  },
  {
   "cell_type": "code",
   "execution_count": null,
   "metadata": {},
   "outputs": [],
   "source": [
    "# x = metrics_df_validation_rgb.Threshold\n",
    "# y = metrics_df_validation_rgb.F1"
   ]
  },
  {
   "cell_type": "code",
   "execution_count": null,
   "metadata": {},
   "outputs": [],
   "source": [
    "# _ = plt.figure(figsize=(6,3))\n",
    "# _ = plt.title('$F_1$ score: threshold optimization', size =18, weight='bold')\n",
    "# _ = plt.ylabel('$F_1$ score', size=15)\n",
    "# _ = plt.xlabel('Threshold', size=15 )\n",
    "# _ = plt.plot(x, y, '-o', linewidth=2, markersize=6)\n",
    "# _ = plt.axvline(0.55, color='firebrick', linestyle='--')\n",
    "# _ = plt.xticks([0.25, 0.35, 0.45, 0.55, 0.65, 0.75, 0.85], [0.25, 0.35, 0.45, 0.55, 0.65, 0.75, 0.85])\n",
    "# _ = plt.savefig(\"paper_yellow/f1_score_train_def_american.png\", dpi = 900, bbox_inches='tight' )\n",
    "# _ = plt.show()"
   ]
  },
  {
   "cell_type": "code",
   "execution_count": null,
   "metadata": {},
   "outputs": [],
   "source": [
    "# plt.figure(figsize=(6,4))\n",
    "# plt.title('F-1 Score Vs Threshold', size ='x-large', weight='bold')\n",
    "# plt.ylabel('F-1 Score',size ='large')\n",
    "# plt.xlabel('Threshold',size ='large' )\n",
    "# plt.plot(x, y, '-o', linewidth=2, markersize=6)\n",
    "# plt.savefig('paper_yellow/f1_score_train_def.png')\n",
    "# plt.show()"
   ]
  },
  {
   "cell_type": "markdown",
   "metadata": {},
   "source": [
    "# Results\n",
    "Show graphs and stats here"
   ]
  },
  {
   "cell_type": "markdown",
   "metadata": {},
   "source": [
    "# Conclusions and Next Steps\n",
    "Summarize findings here"
   ]
  },
  {
   "cell_type": "code",
   "execution_count": null,
   "metadata": {},
   "outputs": [],
   "source": []
  }
 ],
 "metadata": {
  "kernelspec": {
   "display_name": "Python 3",
   "language": "python",
   "name": "python3"
  },
  "language_info": {
   "codemirror_mode": {
    "name": "ipython",
    "version": 3
   },
   "file_extension": ".py",
   "mimetype": "text/x-python",
   "name": "python",
   "nbconvert_exporter": "python",
   "pygments_lexer": "ipython3",
   "version": "3.6.12"
  },
  "toc": {
   "base_numbering": 1,
   "nav_menu": {},
   "number_sections": true,
   "sideBar": true,
   "skip_h1_title": false,
   "title_cell": "Table of Contents",
   "title_sidebar": "Contents",
   "toc_cell": false,
   "toc_position": {},
   "toc_section_display": true,
   "toc_window_display": false
  }
 },
 "nbformat": 4,
 "nbformat_minor": 4
}
